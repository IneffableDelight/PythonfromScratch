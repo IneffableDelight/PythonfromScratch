{
  "nbformat": 4,
  "nbformat_minor": 0,
  "metadata": {
    "colab": {
      "provenance": []
    },
    "kernelspec": {
      "name": "python3",
      "display_name": "Python 3"
    },
    "language_info": {
      "name": "python"
    }
  },
  "cells": [
    {
      "cell_type": "markdown",
      "source": [
        "# Conditioning Statements"
      ],
      "metadata": {
        "id": "K1yNG0W1aake"
      }
    },
    {
      "cell_type": "markdown",
      "source": [
        "Conditional statements are used to perform different actions based on different conditions. The primary conditional statements in Python are `if`, `elif`, and `else`.\n"
      ],
      "metadata": {
        "id": "S8cpU4u9ahm0"
      }
    },
    {
      "cell_type": "markdown",
      "source": [
        "## `if` Statement\n",
        "\n",
        "The `if` statement tests a condition. If the condition is true, the code block within the `if` statement is executed. In the example above, if `age` is 18 or older, the message \"You are an adult.\" will be printed.\n"
      ],
      "metadata": {
        "id": "4b80UAvPamfT"
      }
    },
    {
      "cell_type": "code",
      "execution_count": 1,
      "metadata": {
        "colab": {
          "base_uri": "https://localhost:8080/"
        },
        "id": "CkqsxzARZgsD",
        "outputId": "56dbf576-f307-4954-eb93-f971c661df3d"
      },
      "outputs": [
        {
          "output_type": "stream",
          "name": "stdout",
          "text": [
            "enter age: 19\n",
            "You are an adult.\n"
          ]
        }
      ],
      "source": [
        "#if\n",
        "age = int(input(\"enter age: \"))\n",
        "\n",
        "if age >= 18:\n",
        "    print(\"You are an adult.\")"
      ]
    },
    {
      "cell_type": "markdown",
      "source": [
        "## `if-else` Statement\n",
        "\n",
        "The `if-else` statement provides an alternative path when the condition is false. In this example, if `age` is less than 18, the message \"You are a minor.\" will be printed. If the condition is true, \"You are an adult.\" will be printed instead.\n"
      ],
      "metadata": {
        "id": "z6WQEbRxbITm"
      }
    },
    {
      "cell_type": "code",
      "source": [
        "# if-else Statement\n",
        "age = int(input(\"enter age: \"))\n",
        "\n",
        "if age >= 18:\n",
        "    print(\"You are an adult.\")\n",
        "else:\n",
        "    print(\"You are a minor.\")\n"
      ],
      "metadata": {
        "colab": {
          "base_uri": "https://localhost:8080/"
        },
        "id": "DFMOPzzharMC",
        "outputId": "d2b950d9-a901-4684-9327-787375be046c"
      },
      "execution_count": 2,
      "outputs": [
        {
          "output_type": "stream",
          "name": "stdout",
          "text": [
            "enter age: 14\n",
            "You are a minor.\n"
          ]
        }
      ]
    },
    {
      "cell_type": "markdown",
      "source": [
        "## `if-elif-else` Statement\n",
        "\n",
        "The `if-elif-else` statement allows you to check multiple conditions. It evaluates each condition in sequence and executes the code block for the first true condition. If none of the conditions are true, the code block in the `else` statement is executed. In this example, a score is evaluated to determine the corresponding grade.\n"
      ],
      "metadata": {
        "id": "tNhnq3n7biHe"
      }
    },
    {
      "cell_type": "code",
      "source": [
        "# if-elif-else Statement\n",
        "score = int(input(\"enter score: \"))\n",
        "\n",
        "if score >= 90:\n",
        "    print(\"Grade: A\")\n",
        "elif score >= 80:\n",
        "    print(\"Grade: B\")\n",
        "elif score >= 70:\n",
        "    print(\"Grade: C\")\n",
        "else:\n",
        "    print(\"Grade: D\")\n"
      ],
      "metadata": {
        "colab": {
          "base_uri": "https://localhost:8080/"
        },
        "id": "Fm5o271ZbQow",
        "outputId": "c0e105b3-cee7-462f-c4fe-f3e4607812f0"
      },
      "execution_count": 3,
      "outputs": [
        {
          "output_type": "stream",
          "name": "stdout",
          "text": [
            "enter score: 89\n",
            "Grade: B\n"
          ]
        }
      ]
    },
    {
      "cell_type": "markdown",
      "source": [
        "## Nested Conditional Statements\n",
        "\n",
        "You can nest conditional statements within other `if`, `elif`, or `else` blocks to handle more complex conditions. In this example, an additional check is made inside the `if` block to see if the user has an ID.\n"
      ],
      "metadata": {
        "id": "-IcuZMGKb-Uf"
      }
    },
    {
      "cell_type": "code",
      "source": [
        "# Nested Conditional Statements\n",
        "age = int(input(\"enter age: \"))\n",
        "has_id = bool(input(\"enter has_id (True or False) \"))\n",
        "\n",
        "if age >= 18:\n",
        "    if has_id:\n",
        "        print(\"Access granted.\")\n",
        "    else:\n",
        "        print(\"Access denied. ID required.\")\n",
        "else:\n",
        "    print(\"Access denied. Must be 18 or older.\")\n"
      ],
      "metadata": {
        "colab": {
          "base_uri": "https://localhost:8080/"
        },
        "id": "YlgHUbqDbz9v",
        "outputId": "6fbba1bf-b0a2-4746-8ce9-f07b07b34b35"
      },
      "execution_count": 4,
      "outputs": [
        {
          "output_type": "stream",
          "name": "stdout",
          "text": [
            "enter age: 17\n",
            "enter has_id (True or False) true\n",
            "Access denied. Must be 18 or older.\n"
          ]
        }
      ]
    },
    {
      "cell_type": "markdown",
      "source": [
        "## Conditional Expressions (Ternary Operator)\n",
        "\n",
        "Conditional expressions provide a concise way to write simple `if-else` statements. The syntax is: `value_if_true if condition else value_if_false`. In this example, a message is assigned based on the value of `age`.\n"
      ],
      "metadata": {
        "id": "FHfM-xZ_csqY"
      }
    },
    {
      "cell_type": "code",
      "source": [
        "# Conditional Expressions (Ternary Operator)\n",
        "age = int(input(\"enter age: \"))\n",
        "\n",
        "message = \"Adult\" if age >= 18 else \"Minor\"\n",
        "print(\"You are an\", message)\n"
      ],
      "metadata": {
        "colab": {
          "base_uri": "https://localhost:8080/"
        },
        "id": "ivhjwzWycLug",
        "outputId": "b8ae6658-b8ed-4f93-b4de-81443fe3e40b"
      },
      "execution_count": 5,
      "outputs": [
        {
          "output_type": "stream",
          "name": "stdout",
          "text": [
            "enter age: 24\n",
            "You are an Adult\n"
          ]
        }
      ]
    },
    {
      "cell_type": "markdown",
      "source": [
        "## Example with Multiple Conditions\n",
        "\n",
        "In this example, multiple conditions are used to categorize the temperature into different ranges. The program evaluates each condition in sequence and prints a message based on the temperature.\n"
      ],
      "metadata": {
        "id": "E07A2oPwdBiu"
      }
    },
    {
      "cell_type": "code",
      "source": [
        "# Example with Multiple Conditions\n",
        "temperature = int(input(\"enter temp in celsius: \"))\n",
        "\n",
        "if temperature > 30:\n",
        "    print(\"It's a hot day.\")\n",
        "elif temperature > 20:\n",
        "    print(\"It's a warm day.\")\n",
        "elif temperature > 10:\n",
        "    print(\"It's a cool day.\")\n",
        "else:\n",
        "    print(\"It's a cold day.\")\n"
      ],
      "metadata": {
        "colab": {
          "base_uri": "https://localhost:8080/"
        },
        "id": "4yUTU8OQc3dV",
        "outputId": "47c75878-7f9a-4d25-bb4a-d2b159e445f8"
      },
      "execution_count": 6,
      "outputs": [
        {
          "output_type": "stream",
          "name": "stdout",
          "text": [
            "enter temp in celsius: 45\n",
            "It's a hot day.\n"
          ]
        }
      ]
    }
  ]
}