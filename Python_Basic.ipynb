{
  "nbformat": 4,
  "nbformat_minor": 0,
  "metadata": {
    "colab": {
      "provenance": []
    },
    "kernelspec": {
      "name": "python3",
      "display_name": "Python 3"
    },
    "language_info": {
      "name": "python"
    }
  },
  "cells": [
    {
      "cell_type": "markdown",
      "source": [
        "# Python Basics"
      ],
      "metadata": {
        "id": "8WdFrPn8LQwL"
      }
    },
    {
      "cell_type": "markdown",
      "source": [
        "Python is a widely-used high-level programming language known for its readability and simplicity. Its clean syntax and powerful libraries make it an excellent choice for both beginners and experienced programmers. In this notebook, we will explore some fundamental concepts and basic syntax of Python programming."
      ],
      "metadata": {
        "id": "nNQt-EboLXlF"
      }
    },
    {
      "cell_type": "markdown",
      "source": [
        "## Syntax\n",
        "Python uses indentation to define the structure of the code. This means that the code's readability is maintained, and logical blocks of code are visually separated."
      ],
      "metadata": {
        "id": "xznuPDhXMEB0"
      }
    },
    {
      "cell_type": "markdown",
      "source": [
        "## Comment"
      ],
      "metadata": {
        "id": "CzqeQAMvMNxd"
      }
    },
    {
      "cell_type": "code",
      "source": [
        "# This is a single-line comment\n",
        "\n",
        "\"\"\"\n",
        "This is a multi-line comment\n",
        "\"\"\"\n",
        "# Print statement\n",
        "print(\"Hello, World!\")\n"
      ],
      "metadata": {
        "colab": {
          "base_uri": "https://localhost:8080/"
        },
        "id": "QTMCtqAKMDt8",
        "outputId": "0d11ab23-4a01-4df7-ab91-817bbb1f1b63"
      },
      "execution_count": 1,
      "outputs": [
        {
          "output_type": "stream",
          "name": "stdout",
          "text": [
            "Hello, World!\n"
          ]
        }
      ]
    },
    {
      "cell_type": "markdown",
      "source": [
        "##Variables and Data Types\n",
        "Variables are used to store data that can be used later in the program. Python is dynamically typed, meaning you don't need to declare a variable's type explicitly.\n",
        "\n",
        "Certainly! Here’s a description of the rules for declaring variables and their syntax in Python without code examples:\n",
        "\n",
        "### **Rules for Declaring Variables in Python**\n",
        "\n",
        "1. **Variable Names Must Start with a Letter or Underscore:**\n",
        "   - A variable name must begin with a letter (either uppercase or lowercase) or an underscore. It cannot start with a number.\n",
        "\n",
        "2. **Variable Names Can Include Letters, Digits, and Underscores:**\n",
        "   - After the initial character, variable names can include letters, digits, and underscores.\n",
        "\n",
        "3. **Variable Names Are Case-Sensitive:**\n",
        "   - Variable names are case-sensitive, meaning that `variable`, `Variable`, and `VARIABLE` are considered different variables.\n",
        "\n",
        "4. **Avoid Using Reserved Words:**\n",
        "   - Python has reserved keywords that cannot be used as variable names. These include common programming terms such as `if`, `else`, `while`, `for`, `class`, etc.\n",
        "\n",
        "5. **Variable Names Should Be Descriptive:**\n",
        "   - It's best to use meaningful and descriptive names for variables to make your code more understandable and maintainable.\n",
        "\n",
        "6. **Variable Names Should Not Include Special Characters:**\n",
        "   - Special characters such as `@`, `#`, `$`, or spaces are not allowed in variable names.\n",
        "\n",
        "### **Syntax for Declaring Variables**\n",
        "\n",
        "- **Variable Declaration:**\n",
        "  Declaring a variable in Python involves assigning a value to a name. You specify the variable name followed by an equal sign (`=`), and then the value you want to assign to that variable."
      ],
      "metadata": {
        "id": "w5vI3gYXNBnq"
      }
    },
    {
      "cell_type": "code",
      "execution_count": 2,
      "metadata": {
        "colab": {
          "base_uri": "https://localhost:8080/"
        },
        "id": "8hjNL83_Kt88",
        "outputId": "1ff21921-57d1-4ce3-9580-300ba54a3372"
      },
      "outputs": [
        {
          "output_type": "stream",
          "name": "stdout",
          "text": [
            "<class 'int'>\n",
            "<class 'float'>\n",
            "<class 'str'>\n"
          ]
        }
      ],
      "source": [
        "# Variables\n",
        "x = 5\n",
        "y = 3.14\n",
        "name = \"Hiyaa\"\n",
        "\n",
        "# Data types\n",
        "print(type(x))  # int\n",
        "print(type(y))  # float\n",
        "print(type(name))  # str\n"
      ]
    },
    {
      "cell_type": "markdown",
      "source": [
        "- **Boolean Variables:**\n",
        "  `is_active` is set to `True` and `is_completed` is set to `False`. In Python, `True` and `False` are Boolean literals.\n"
      ],
      "metadata": {
        "id": "2CM5YasENoo8"
      }
    },
    {
      "cell_type": "code",
      "source": [
        "# Boolean Variables\n",
        "is_active = True\n",
        "is_completed = False\n",
        "\n",
        "# Print Boolean values\n",
        "print(\"Is Active:\", is_active)\n",
        "print(\"Is Completed:\", is_completed)\n"
      ],
      "metadata": {
        "colab": {
          "base_uri": "https://localhost:8080/"
        },
        "id": "N0bztknjNK0B",
        "outputId": "5fb55987-2921-4146-996a-f3edd4c4f0cc"
      },
      "execution_count": 3,
      "outputs": [
        {
          "output_type": "stream",
          "name": "stdout",
          "text": [
            "Is Active: True\n",
            "Is Completed: False\n"
          ]
        }
      ]
    },
    {
      "cell_type": "markdown",
      "source": [
        "## Operators"
      ],
      "metadata": {
        "id": "jQQBsrjrOBDj"
      }
    },
    {
      "cell_type": "markdown",
      "source": [
        "### Arithmetic"
      ],
      "metadata": {
        "id": "SqbcwV_vOsje"
      }
    },
    {
      "cell_type": "code",
      "source": [
        "a = 10\n",
        "b = 20\n",
        "\n",
        "print(\"Arithmetic Operators:\")\n",
        "print(\"Addition:\", a + b)          # Addition\n",
        "print(\"Subtraction:\", a - b)       # Subtraction\n",
        "print(\"Multiplication:\", a * b)   # Multiplication\n",
        "print(\"Division:\", a / b)         # Division\n",
        "print(\"Floor Division:\", a // b)  # Floor Division\n",
        "print(\"Modulus:\", a % b)          # Modulus\n",
        "print(\"Exponentiation:\", a ** 2)  # Exponentiation\n"
      ],
      "metadata": {
        "colab": {
          "base_uri": "https://localhost:8080/"
        },
        "id": "v5iUoa-XOsLt",
        "outputId": "f0819b7e-c8d6-45e3-d6b8-13bb61357993"
      },
      "execution_count": 4,
      "outputs": [
        {
          "output_type": "stream",
          "name": "stdout",
          "text": [
            "Arithmetic Operators:\n",
            "Addition: 30\n",
            "Subtraction: -10\n",
            "Multiplication: 200\n",
            "Division: 0.5\n",
            "Floor Division: 0\n",
            "Modulus: 10\n",
            "Exponentiation: 100\n"
          ]
        }
      ]
    },
    {
      "cell_type": "markdown",
      "source": [
        "### comparison"
      ],
      "metadata": {
        "id": "Va1UEq03O3Gy"
      }
    },
    {
      "cell_type": "code",
      "source": [
        "a = 10\n",
        "b = 20\n",
        "\n",
        "print(\"\\nComparison Operators:\")\n",
        "print(\"Equal to:\", a == b)         # Equal to\n",
        "print(\"Not equal to:\", a != b)    # Not equal to\n",
        "print(\"Greater than:\", a > b)     # Greater than\n",
        "print(\"Less than:\", a < b)        # Less than\n",
        "print(\"Greater than or equal to:\", a >= b)  # Greater than or equal to\n",
        "print(\"Less than or equal to:\", a <= b)     # Less than or equal to"
      ],
      "metadata": {
        "colab": {
          "base_uri": "https://localhost:8080/"
        },
        "id": "tNrMWsExO0Az",
        "outputId": "0a433bcd-1cec-45f4-aba9-97c1a285dc29"
      },
      "execution_count": 5,
      "outputs": [
        {
          "output_type": "stream",
          "name": "stdout",
          "text": [
            "\n",
            "Comparison Operators:\n",
            "Equal to: False\n",
            "Not equal to: True\n",
            "Greater than: False\n",
            "Less than: True\n",
            "Greater than or equal to: False\n",
            "Less than or equal to: True\n"
          ]
        }
      ]
    },
    {
      "cell_type": "markdown",
      "source": [
        "### Logical"
      ],
      "metadata": {
        "id": "dk1tMf1VPAlL"
      }
    },
    {
      "cell_type": "code",
      "source": [
        "x = True\n",
        "y = False\n",
        "\n",
        "print(\"\\nLogical Operators:\")\n",
        "print(\"AND:\", x and y)            # Logical AND\n",
        "print(\"OR:\", x or y)              # Logical OR\n",
        "print(\"NOT:\", not x)              # Logical NOT\n"
      ],
      "metadata": {
        "colab": {
          "base_uri": "https://localhost:8080/"
        },
        "id": "lw47_unzO-sO",
        "outputId": "88edca9e-fbb8-468a-f570-9763edf3c35c"
      },
      "execution_count": 6,
      "outputs": [
        {
          "output_type": "stream",
          "name": "stdout",
          "text": [
            "\n",
            "Logical Operators:\n",
            "AND: False\n",
            "OR: True\n",
            "NOT: False\n"
          ]
        }
      ]
    },
    {
      "cell_type": "markdown",
      "source": [
        "### Assignment"
      ],
      "metadata": {
        "id": "2aMsqZ9UP74V"
      }
    },
    {
      "cell_type": "code",
      "source": [
        "c = 5\n",
        "\n",
        "print(\"\\nAssignment Operators:\")\n",
        "c += 2  # Equivalent to c = c + 2\n",
        "print(\"Addition Assignment (c += 2):\", c)\n",
        "c -= 2  # Equivalent to c = c - 2\n",
        "print(\"Subtraction Assignment (c -= 2):\", c)\n",
        "c *= 2  # Equivalent to c = c * 2\n",
        "print(\"Multiplication Assignment (c *= 2):\", c)\n",
        "c /= 2  # Equivalent to c = c / 2\n",
        "print(\"Division Assignment (c /= 2):\", c)\n",
        "c //= 2 # Equivalent to c = c // 2\n",
        "print(\"Floor Division Assignment (c //= 2):\", c)\n",
        "c %= 2  # Equivalent to c = c % 2\n",
        "print(\"Modulus Assignment (c %= 2):\", c)\n",
        "c **= 2 # Equivalent to c = c ** 2\n",
        "print(\"Exponentiation Assignment (c **= 2):\", c)\n"
      ],
      "metadata": {
        "colab": {
          "base_uri": "https://localhost:8080/"
        },
        "id": "9l_P2Kd3PHQs",
        "outputId": "4c255977-a45f-4dae-e30e-f8a7c6e2b04d"
      },
      "execution_count": 7,
      "outputs": [
        {
          "output_type": "stream",
          "name": "stdout",
          "text": [
            "\n",
            "Assignment Operators:\n",
            "Addition Assignment (c += 2): 7\n",
            "Subtraction Assignment (c -= 2): 5\n",
            "Multiplication Assignment (c *= 2): 10\n",
            "Division Assignment (c /= 2): 5.0\n",
            "Floor Division Assignment (c //= 2): 2.0\n",
            "Modulus Assignment (c %= 2): 0.0\n",
            "Exponentiation Assignment (c **= 2): 0.0\n"
          ]
        }
      ]
    },
    {
      "cell_type": "markdown",
      "source": [
        "### Bitwise"
      ],
      "metadata": {
        "id": "9bAktQsFQGZ3"
      }
    },
    {
      "cell_type": "code",
      "source": [
        "p = 5  # Binary: 0101\n",
        "q = 3  # Binary: 0011\n",
        "\n",
        "print(\"\\nBitwise Operators:\")\n",
        "print(\"AND:\", p & q)              # Bitwise AND\n",
        "print(\"OR:\", p | q)               # Bitwise OR\n",
        "print(\"XOR:\", p ^ q)              # Bitwise XOR\n",
        "print(\"NOT:\", ~p)                 # Bitwise NOT\n",
        "print(\"Left Shift:\", p << 1)     # Left Shift\n",
        "print(\"Right Shift:\", p >> 1)    # Right Shift\n"
      ],
      "metadata": {
        "colab": {
          "base_uri": "https://localhost:8080/"
        },
        "id": "zTqJ14uoQAlC",
        "outputId": "4941a8f6-8220-4526-bc61-8194c3119f23"
      },
      "execution_count": 8,
      "outputs": [
        {
          "output_type": "stream",
          "name": "stdout",
          "text": [
            "\n",
            "Bitwise Operators:\n",
            "AND: 1\n",
            "OR: 7\n",
            "XOR: 6\n",
            "NOT: -6\n",
            "Left Shift: 10\n",
            "Right Shift: 2\n"
          ]
        }
      ]
    }
  ]
}