{
  "nbformat": 4,
  "nbformat_minor": 0,
  "metadata": {
    "colab": {
      "provenance": []
    },
    "kernelspec": {
      "name": "python3",
      "display_name": "Python 3"
    },
    "language_info": {
      "name": "python"
    }
  },
  "cells": [
    {
      "cell_type": "markdown",
      "source": [
        "# Python Basics"
      ],
      "metadata": {
        "id": "8WdFrPn8LQwL"
      }
    },
    {
      "cell_type": "markdown",
      "source": [
        "Python is a widely-used high-level programming language known for its readability and simplicity. Its clean syntax and powerful libraries make it an excellent choice for both beginners and experienced programmers. In this notebook, we will explore some fundamental concepts and basic syntax of Python programming."
      ],
      "metadata": {
        "id": "nNQt-EboLXlF"
      }
    },
    {
      "cell_type": "markdown",
      "source": [
        "## Syntax\n",
        "Python uses indentation to define the structure of the code. This means that the code's readability is maintained, and logical blocks of code are visually separated."
      ],
      "metadata": {
        "id": "xznuPDhXMEB0"
      }
    },
    {
      "cell_type": "markdown",
      "source": [
        "## Comment"
      ],
      "metadata": {
        "id": "CzqeQAMvMNxd"
      }
    },
    {
      "cell_type": "code",
      "source": [
        "# This is a single-line comment\n",
        "\n",
        "\"\"\"\n",
        "This is a multi-line comment\n",
        "\"\"\"\n",
        "# Print statement\n",
        "print(\"Hello, World!\")\n"
      ],
      "metadata": {
        "colab": {
          "base_uri": "https://localhost:8080/"
        },
        "id": "QTMCtqAKMDt8",
        "outputId": "6ee4dcd7-bc80-42d3-bfdc-99a20ffb43f6"
      },
      "execution_count": 1,
      "outputs": [
        {
          "output_type": "stream",
          "name": "stdout",
          "text": [
            "Hello, World!\n"
          ]
        }
      ]
    },
    {
      "cell_type": "markdown",
      "source": [
        "##Variables and Data Types\n",
        "Variables are used to store data that can be used later in the program. Python is dynamically typed, meaning you don't need to declare a variable's type explicitly.\n",
        "\n",
        "Certainly! Here’s a description of the rules for declaring variables and their syntax in Python without code examples:\n",
        "\n",
        "### **Rules for Declaring Variables in Python**\n",
        "\n",
        "1. **Variable Names Must Start with a Letter or Underscore:**\n",
        "   - A variable name must begin with a letter (either uppercase or lowercase) or an underscore. It cannot start with a number.\n",
        "\n",
        "2. **Variable Names Can Include Letters, Digits, and Underscores:**\n",
        "   - After the initial character, variable names can include letters, digits, and underscores.\n",
        "\n",
        "3. **Variable Names Are Case-Sensitive:**\n",
        "   - Variable names are case-sensitive, meaning that `variable`, `Variable`, and `VARIABLE` are considered different variables.\n",
        "\n",
        "4. **Avoid Using Reserved Words:**\n",
        "   - Python has reserved keywords that cannot be used as variable names. These include common programming terms such as `if`, `else`, `while`, `for`, `class`, etc.\n",
        "\n",
        "5. **Variable Names Should Be Descriptive:**\n",
        "   - It's best to use meaningful and descriptive names for variables to make your code more understandable and maintainable.\n",
        "\n",
        "6. **Variable Names Should Not Include Special Characters:**\n",
        "   - Special characters such as `@`, `#`, `$`, or spaces are not allowed in variable names.\n",
        "\n",
        "### **Syntax for Declaring Variables**\n",
        "\n",
        "- **Variable Declaration:**\n",
        "  Declaring a variable in Python involves assigning a value to a name. You specify the variable name followed by an equal sign (`=`), and then the value you want to assign to that variable."
      ],
      "metadata": {
        "id": "w5vI3gYXNBnq"
      }
    },
    {
      "cell_type": "code",
      "execution_count": 2,
      "metadata": {
        "colab": {
          "base_uri": "https://localhost:8080/"
        },
        "id": "8hjNL83_Kt88",
        "outputId": "710f1dfb-2f0d-4782-dd93-8eaff036d0bc"
      },
      "outputs": [
        {
          "output_type": "stream",
          "name": "stdout",
          "text": [
            "<class 'int'>\n",
            "<class 'float'>\n",
            "<class 'str'>\n"
          ]
        }
      ],
      "source": [
        "# Variables\n",
        "x = 5\n",
        "y = 3.14\n",
        "name = \"Hiyaa\"\n",
        "\n",
        "# Data types\n",
        "print(type(x))  # int\n",
        "print(type(y))  # float\n",
        "print(type(name))  # str\n"
      ]
    },
    {
      "cell_type": "markdown",
      "source": [
        "- **Boolean Variables:**\n",
        "  `is_active` is set to `True` and `is_completed` is set to `False`. In Python, `True` and `False` are Boolean literals.\n"
      ],
      "metadata": {
        "id": "2CM5YasENoo8"
      }
    },
    {
      "cell_type": "code",
      "source": [
        "# Boolean Variables\n",
        "is_active = True\n",
        "is_completed = False\n",
        "\n",
        "# Print Boolean values\n",
        "print(\"Is Active:\", is_active)\n",
        "print(\"Is Completed:\", is_completed)\n"
      ],
      "metadata": {
        "colab": {
          "base_uri": "https://localhost:8080/"
        },
        "id": "N0bztknjNK0B",
        "outputId": "065cfc3d-0c4f-4d40-99da-b4748063c654"
      },
      "execution_count": 3,
      "outputs": [
        {
          "output_type": "stream",
          "name": "stdout",
          "text": [
            "Is Active: True\n",
            "Is Completed: False\n"
          ]
        }
      ]
    },
    {
      "cell_type": "markdown",
      "source": [
        "## Operators"
      ],
      "metadata": {
        "id": "jQQBsrjrOBDj"
      }
    },
    {
      "cell_type": "markdown",
      "source": [
        "### Arithmetic"
      ],
      "metadata": {
        "id": "SqbcwV_vOsje"
      }
    },
    {
      "cell_type": "code",
      "source": [
        "a = 10\n",
        "b = 20\n",
        "\n",
        "print(\"Arithmetic Operators:\")\n",
        "print(\"Addition:\", a + b)          # Addition\n",
        "print(\"Subtraction:\", a - b)       # Subtraction\n",
        "print(\"Multiplication:\", a * b)   # Multiplication\n",
        "print(\"Division:\", a / b)         # Division\n",
        "print(\"Floor Division:\", a // b)  # Floor Division\n",
        "print(\"Modulus:\", a % b)          # Modulus\n",
        "print(\"Exponentiation:\", a ** 2)  # Exponentiation\n"
      ],
      "metadata": {
        "colab": {
          "base_uri": "https://localhost:8080/"
        },
        "id": "v5iUoa-XOsLt",
        "outputId": "6ec2f311-b8ba-4985-ac22-680592cb83ef"
      },
      "execution_count": 4,
      "outputs": [
        {
          "output_type": "stream",
          "name": "stdout",
          "text": [
            "Arithmetic Operators:\n",
            "Addition: 30\n",
            "Subtraction: -10\n",
            "Multiplication: 200\n",
            "Division: 0.5\n",
            "Floor Division: 0\n",
            "Modulus: 10\n",
            "Exponentiation: 100\n"
          ]
        }
      ]
    },
    {
      "cell_type": "markdown",
      "source": [
        "### comparison"
      ],
      "metadata": {
        "id": "Va1UEq03O3Gy"
      }
    },
    {
      "cell_type": "code",
      "source": [
        "a = 10\n",
        "b = 20\n",
        "\n",
        "print(\"\\nComparison Operators:\")\n",
        "print(\"Equal to:\", a == b)         # Equal to\n",
        "print(\"Not equal to:\", a != b)    # Not equal to\n",
        "print(\"Greater than:\", a > b)     # Greater than\n",
        "print(\"Less than:\", a < b)        # Less than\n",
        "print(\"Greater than or equal to:\", a >= b)  # Greater than or equal to\n",
        "print(\"Less than or equal to:\", a <= b)     # Less than or equal to"
      ],
      "metadata": {
        "colab": {
          "base_uri": "https://localhost:8080/"
        },
        "id": "tNrMWsExO0Az",
        "outputId": "2733624e-1fb4-4853-88a3-1ee03604390c"
      },
      "execution_count": 5,
      "outputs": [
        {
          "output_type": "stream",
          "name": "stdout",
          "text": [
            "\n",
            "Comparison Operators:\n",
            "Equal to: False\n",
            "Not equal to: True\n",
            "Greater than: False\n",
            "Less than: True\n",
            "Greater than or equal to: False\n",
            "Less than or equal to: True\n"
          ]
        }
      ]
    },
    {
      "cell_type": "markdown",
      "source": [
        "### Logical"
      ],
      "metadata": {
        "id": "dk1tMf1VPAlL"
      }
    },
    {
      "cell_type": "code",
      "source": [
        "x = True\n",
        "y = False\n",
        "\n",
        "print(\"\\nLogical Operators:\")\n",
        "print(\"AND:\", x and y)            # Logical AND\n",
        "print(\"OR:\", x or y)              # Logical OR\n",
        "print(\"NOT:\", not x)              # Logical NOT\n"
      ],
      "metadata": {
        "colab": {
          "base_uri": "https://localhost:8080/"
        },
        "id": "lw47_unzO-sO",
        "outputId": "0679b06a-732b-4a6b-80bf-6913d110854e"
      },
      "execution_count": 6,
      "outputs": [
        {
          "output_type": "stream",
          "name": "stdout",
          "text": [
            "\n",
            "Logical Operators:\n",
            "AND: False\n",
            "OR: True\n",
            "NOT: False\n"
          ]
        }
      ]
    },
    {
      "cell_type": "markdown",
      "source": [
        "### Assignment"
      ],
      "metadata": {
        "id": "2aMsqZ9UP74V"
      }
    },
    {
      "cell_type": "code",
      "source": [
        "c = 5\n",
        "\n",
        "print(\"\\nAssignment Operators:\")\n",
        "c += 2  # Equivalent to c = c + 2\n",
        "print(\"Addition Assignment (c += 2):\", c)\n",
        "c -= 2  # Equivalent to c = c - 2\n",
        "print(\"Subtraction Assignment (c -= 2):\", c)\n",
        "c *= 2  # Equivalent to c = c * 2\n",
        "print(\"Multiplication Assignment (c *= 2):\", c)\n",
        "c /= 2  # Equivalent to c = c / 2\n",
        "print(\"Division Assignment (c /= 2):\", c)\n",
        "c //= 2 # Equivalent to c = c // 2\n",
        "print(\"Floor Division Assignment (c //= 2):\", c)\n",
        "c %= 2  # Equivalent to c = c % 2\n",
        "print(\"Modulus Assignment (c %= 2):\", c)\n",
        "c **= 2 # Equivalent to c = c ** 2\n",
        "print(\"Exponentiation Assignment (c **= 2):\", c)\n"
      ],
      "metadata": {
        "colab": {
          "base_uri": "https://localhost:8080/"
        },
        "id": "9l_P2Kd3PHQs",
        "outputId": "6d6f2a59-310f-4023-a750-ea22529f6474"
      },
      "execution_count": 7,
      "outputs": [
        {
          "output_type": "stream",
          "name": "stdout",
          "text": [
            "\n",
            "Assignment Operators:\n",
            "Addition Assignment (c += 2): 7\n",
            "Subtraction Assignment (c -= 2): 5\n",
            "Multiplication Assignment (c *= 2): 10\n",
            "Division Assignment (c /= 2): 5.0\n",
            "Floor Division Assignment (c //= 2): 2.0\n",
            "Modulus Assignment (c %= 2): 0.0\n",
            "Exponentiation Assignment (c **= 2): 0.0\n"
          ]
        }
      ]
    },
    {
      "cell_type": "markdown",
      "source": [
        "### Bitwise"
      ],
      "metadata": {
        "id": "9bAktQsFQGZ3"
      }
    },
    {
      "cell_type": "code",
      "source": [
        "p = 5  # Binary: 0101\n",
        "q = 3  # Binary: 0011\n",
        "\n",
        "print(\"\\nBitwise Operators:\")\n",
        "print(\"AND:\", p & q)              # Bitwise AND\n",
        "print(\"OR:\", p | q)               # Bitwise OR\n",
        "print(\"XOR:\", p ^ q)              # Bitwise XOR\n",
        "print(\"NOT:\", ~p)                 # Bitwise NOT\n",
        "print(\"Left Shift:\", p << 1)     # Left Shift\n",
        "print(\"Right Shift:\", p >> 1)    # Right Shift\n"
      ],
      "metadata": {
        "colab": {
          "base_uri": "https://localhost:8080/"
        },
        "id": "zTqJ14uoQAlC",
        "outputId": "7bf829d6-8d88-4743-db27-610af294b562"
      },
      "execution_count": 8,
      "outputs": [
        {
          "output_type": "stream",
          "name": "stdout",
          "text": [
            "\n",
            "Bitwise Operators:\n",
            "AND: 1\n",
            "OR: 7\n",
            "XOR: 6\n",
            "NOT: -6\n",
            "Left Shift: 10\n",
            "Right Shift: 2\n"
          ]
        }
      ]
    },
    {
      "cell_type": "markdown",
      "source": [
        "## Input"
      ],
      "metadata": {
        "id": "0O7xUl-nafg6"
      }
    },
    {
      "cell_type": "markdown",
      "source": [
        "### Integer"
      ],
      "metadata": {
        "id": "sANJfWpqas7y"
      }
    },
    {
      "cell_type": "code",
      "source": [
        "age = int(input(\"Enter your age: \"))\n",
        "print(\"Your age is:\", age)"
      ],
      "metadata": {
        "colab": {
          "base_uri": "https://localhost:8080/"
        },
        "id": "vboojq-ianfy",
        "outputId": "a170cf16-1a88-43a3-fe52-065843c17804"
      },
      "execution_count": 9,
      "outputs": [
        {
          "output_type": "stream",
          "name": "stdout",
          "text": [
            "Enter your age: 20\n",
            "Your age is: 20\n"
          ]
        }
      ]
    },
    {
      "cell_type": "markdown",
      "source": [
        "### temperature"
      ],
      "metadata": {
        "id": "oZf0IJ2ta6Lu"
      }
    },
    {
      "cell_type": "code",
      "source": [
        "temperature = float(input(\"Enter the temperature in Celsius: \"))\n",
        "print(\"The temperature is:\", temperature)"
      ],
      "metadata": {
        "colab": {
          "base_uri": "https://localhost:8080/"
        },
        "id": "L8R-OPO3awCH",
        "outputId": "d1a1e2b4-cf8a-4f08-857f-bb9fe48ecb6e"
      },
      "execution_count": 10,
      "outputs": [
        {
          "output_type": "stream",
          "name": "stdout",
          "text": [
            "Enter the temperature in Celsius: 39.6\n",
            "The temperature is: 39.6\n"
          ]
        }
      ]
    },
    {
      "cell_type": "markdown",
      "source": [
        "### String"
      ],
      "metadata": {
        "id": "9D1XcDTpa_-e"
      }
    },
    {
      "cell_type": "code",
      "source": [
        "name = input(\"Enter your name: \")\n",
        "print(\"Hello,\", name)"
      ],
      "metadata": {
        "colab": {
          "base_uri": "https://localhost:8080/"
        },
        "id": "OaK3W7EWa8dM",
        "outputId": "69a8c6dd-9c7f-471f-b11b-fd59eedee314"
      },
      "execution_count": 11,
      "outputs": [
        {
          "output_type": "stream",
          "name": "stdout",
          "text": [
            "Enter your name: Sneha \n",
            "Hello, Sneha \n"
          ]
        }
      ]
    },
    {
      "cell_type": "markdown",
      "source": [
        "### boolean"
      ],
      "metadata": {
        "id": "aZgjySGXbOJL"
      }
    },
    {
      "cell_type": "code",
      "source": [
        "response = input(\"Are you a student? (yes/no): \").lower()\n",
        "is_student = response == 'yes'\n",
        "print(\"Is the user a student?\", is_student)\n"
      ],
      "metadata": {
        "colab": {
          "base_uri": "https://localhost:8080/"
        },
        "id": "cVPYWeMLbGGH",
        "outputId": "d9521efc-3db0-456e-fc53-478668e57d60"
      },
      "execution_count": 12,
      "outputs": [
        {
          "output_type": "stream",
          "name": "stdout",
          "text": [
            "Are you a student? (yes/no): yes\n",
            "Is the user a student? True\n"
          ]
        }
      ]
    },
    {
      "cell_type": "markdown",
      "source": [
        "### multiple inputs"
      ],
      "metadata": {
        "id": "nVkVpr_dbbC6"
      }
    },
    {
      "cell_type": "code",
      "source": [
        "name, age = input(\"Enter your name and age separated by a comma: \").split(',')\n",
        "age = int(age)\n",
        "print(\"Name:\", name.strip())\n",
        "print(\"Age:\", age)\n"
      ],
      "metadata": {
        "colab": {
          "base_uri": "https://localhost:8080/"
        },
        "id": "PhFLL1b-bRmu",
        "outputId": "2df45095-152a-47a4-ec4c-64c6e042e75b"
      },
      "execution_count": 13,
      "outputs": [
        {
          "output_type": "stream",
          "name": "stdout",
          "text": [
            "Enter your name and age separated by a comma: Sneha, 20\n",
            "Name: Sneha\n",
            "Age: 20\n"
          ]
        }
      ]
    },
    {
      "cell_type": "markdown",
      "source": [
        "### list input"
      ],
      "metadata": {
        "id": "bN06_iu2buWn"
      }
    },
    {
      "cell_type": "code",
      "source": [
        "input_list = input(\"Enter a list of numbers separated by commas: \")\n",
        "numbers = [int(num) for num in input_list.split(',')]\n",
        "print(\"The list of numbers is:\", numbers)\n"
      ],
      "metadata": {
        "colab": {
          "base_uri": "https://localhost:8080/"
        },
        "id": "Kah1q9odbe24",
        "outputId": "3cfd3ee7-4f22-421e-dd83-56ad3ed0fea8"
      },
      "execution_count": 14,
      "outputs": [
        {
          "output_type": "stream",
          "name": "stdout",
          "text": [
            "Enter a list of numbers separated by commas: 1,4,8,3,6,9,2,4,6,8\n",
            "The list of numbers is: [1, 4, 8, 3, 6, 9, 2, 4, 6, 8]\n"
          ]
        }
      ]
    }
  ]
}